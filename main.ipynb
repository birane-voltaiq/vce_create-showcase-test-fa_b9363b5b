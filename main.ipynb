{
 "cells": [
  {
   "cell_type": "code",
   "execution_count": null,
   "id": "2e0d66b5",
   "metadata": {},
   "outputs": [],
   "source": [
    "import voltaiq_studio as vs"
   ]
  },
  {
   "cell_type": "code",
   "execution_count": 1,
   "id": "ca39d507-8fca-4633-a1d4-4fd95e7a894f",
   "metadata": {},
   "outputs": [],
   "source": [
    "#Test push "
   ]
  },
  {
   "cell_type": "code",
   "execution_count": null,
   "id": "a061ee60-4d02-4a8a-8ea1-0aa0061b1f20",
   "metadata": {},
   "outputs": [],
   "source": []
  }
 ],
 "metadata": {
  "kernelspec": {
   "display_name": "Python 3 (ipykernel)",
   "language": "python",
   "name": "python3"
  },
  "language_info": {
   "codemirror_mode": {
    "name": "ipython",
    "version": 3
   },
   "file_extension": ".py",
   "mimetype": "text/x-python",
   "name": "python",
   "nbconvert_exporter": "python",
   "pygments_lexer": "ipython3",
   "version": "3.9.6"
  }
 },
 "nbformat": 4,
 "nbformat_minor": 5
}
